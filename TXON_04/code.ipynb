{
 "cells": [
  {
   "cell_type": "markdown",
   "metadata": {},
   "source": [
    "**Task 04 : Build a Movie Recommendation System**"
   ]
  },
  {
   "cell_type": "markdown",
   "metadata": {},
   "source": [
    "*Step 1: Data*\n",
    "\n",
    "*First, we need to gather movie datasets and import essential libraries for data processing and machine learning. For this example, we'll use the MovieLens dataset, a popular dataset for building recommendation systems.*"
   ]
  },
  {
   "cell_type": "code",
   "execution_count": 1,
   "metadata": {},
   "outputs": [],
   "source": [
    "import pandas as pd\n",
    "\n",
    "# Load MovieLens dataset\n",
    "movies_df = pd.read_csv('C:\\\\Users\\\\shame\\\\OneDrive\\\\Desktop\\\\TXON TASK\\\\TXON_04\\\\movies.csv')\n",
    "ratings_df = pd.read_csv('C:\\\\Users\\\\shame\\\\OneDrive\\\\Desktop\\\\TXON TASK\\\\TXON_04\\\\ratings.csv')"
   ]
  },
  {
   "cell_type": "markdown",
   "metadata": {},
   "source": [
    "*Step 2 : Analysis*\n",
    "\n",
    "*We will create generic recommendations of top-rated movies from the existing dataset. This step aims to provide initial recommendations based on average ratings. We will consider movies with a minimum number of ratings to ensure credibility.*"
   ]
  },
  {
   "cell_type": "code",
   "execution_count": 2,
   "metadata": {},
   "outputs": [],
   "source": [
    "# Calculate average rating and number of ratings for each movie\n",
    "movie_ratings = ratings_df.groupby('movieId')['rating'].agg(['mean', 'count']).reset_index()\n",
    "\n",
    "# Set a minimum number of ratings required to be considered for recommendations\n",
    "min_ratings_count = 100\n",
    "\n",
    "# Filter movies with minimum ratings count\n",
    "popular_movies = movie_ratings[movie_ratings['count'] >= min_ratings_count]\n",
    "\n",
    "# Sort movies based on average rating in descending order\n",
    "top_rated_movies = popular_movies.sort_values(by='mean', ascending=False)\n",
    "\n",
    "# Get generic movie recommendations (top 10 movies)\n",
    "generic_recommendations = top_rated_movies.merge(movies_df, on='movieId').head(10)"
   ]
  },
  {
   "cell_type": "markdown",
   "metadata": {},
   "source": [
    "*Step 3: Personalization*\n",
    "\n",
    "*To personalize the recommendations, we need to get the user's movie scores for some films they've watched. Let's assume the user provides their own movie ratings as a dictionary, where the keys are movie titles, and the values are their ratings (usually on a scale of 1 to 5).*"
   ]
  },
  {
   "cell_type": "code",
   "execution_count": 3,
   "metadata": {},
   "outputs": [],
   "source": [
    "# User-provided movie ratings (example)\n",
    "user_ratings = {\n",
    "    'Movie A': 4.5,\n",
    "    'Movie B': 3.0,\n",
    "    'Movie C': 5.0,\n",
    "    # Add more movie ratings as per user's preferences\n",
    "}"
   ]
  },
  {
   "cell_type": "markdown",
   "metadata": {},
   "source": [
    "*Step 4: Strategy*\n",
    "\n",
    "*Implement a content-based or collaborative filtering strategy. For this example, let's use a content-based filtering approach, where we recommend movies similar to the ones the user has rated highly.*"
   ]
  },
  {
   "cell_type": "code",
   "execution_count": 4,
   "metadata": {},
   "outputs": [],
   "source": [
    "# Filter movies similar to the ones the user has rated highly (content-based filtering)\n",
    "def content_based_recommendations(user_ratings, movies_df):\n",
    "    user_movies = pd.DataFrame(list(user_ratings.items()), columns=['title', 'rating'])\n",
    "    user_movie_ids = movies_df[movies_df['title'].isin(user_movies['title'])]['movieId']\n",
    "    similar_movies = movies_df[movies_df['movieId'].isin(user_movie_ids)]\n",
    "    return similar_movies\n",
    "\n",
    "# Get content-based movie recommendations for the user\n",
    "content_based_recommendations = content_based_recommendations(user_ratings, movies_df)"
   ]
  },
  {
   "cell_type": "markdown",
   "metadata": {},
   "source": [
    "*Step 5: Combination*\n",
    "\n",
    "*Finally, combine the generic recommendations from Step 2 with the personalized content-based recommendations from Step 4 to create a final list of movie recommendations for the user.*"
   ]
  },
  {
   "cell_type": "code",
   "execution_count": 5,
   "metadata": {},
   "outputs": [
    {
     "name": "stdout",
     "output_type": "stream",
     "text": [
      "                              title      mean\n",
      "0  Shawshank Redemption, The (1994)  4.429022\n",
      "1             Godfather, The (1972)  4.289062\n",
      "2                 Fight Club (1999)  4.272936\n",
      "3    Godfather: Part II, The (1974)  4.259690\n",
      "4              Departed, The (2006)  4.252336\n",
      "5                 Goodfellas (1990)  4.250000\n",
      "6                 Casablanca (1942)  4.240000\n",
      "7           Dark Knight, The (2008)  4.238255\n",
      "8        Usual Suspects, The (1995)  4.237745\n",
      "9        Princess Bride, The (1987)  4.232394\n"
     ]
    }
   ],
   "source": [
    "# Combine generic and personalized recommendations\n",
    "final_recommendations = pd.concat([generic_recommendations, content_based_recommendations])\n",
    "final_recommendations = final_recommendations.drop_duplicates(subset='title', keep='first')\n",
    "\n",
    "# Print the final movie recommendations\n",
    "print(final_recommendations[['title', 'mean']])"
   ]
  }
 ],
 "metadata": {
  "kernelspec": {
   "display_name": "Python 3",
   "language": "python",
   "name": "python3"
  },
  "language_info": {
   "codemirror_mode": {
    "name": "ipython",
    "version": 3
   },
   "file_extension": ".py",
   "mimetype": "text/x-python",
   "name": "python",
   "nbconvert_exporter": "python",
   "pygments_lexer": "ipython3",
   "version": "3.11.3"
  },
  "orig_nbformat": 4
 },
 "nbformat": 4,
 "nbformat_minor": 2
}
