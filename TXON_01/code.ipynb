{
 "cells": [
  {
   "attachments": {},
   "cell_type": "markdown",
   "metadata": {},
   "source": [
    "*Task 1 : Black and white Image colorization*"
   ]
  },
  {
   "cell_type": "code",
   "execution_count": 2,
   "metadata": {},
   "outputs": [],
   "source": [
    "import cv2\n",
    "import numpy as np\n",
    "\n",
    "# Step 1: Read the grayscale image\n",
    "\n",
    "image_path = 'C:\\\\Users\\\\shame\\\\OneDrive\\\\Desktop\\\\TXON_tasks\\\\TXON_01\\\\wpp.jpg'  # Replace with the actual path to your grayscale image\n",
    "grayscale_image = cv2.imread(image_path, cv2.IMREAD_GRAYSCALE)\n",
    "\n",
    "# Step 2: Apply basic colorization\n",
    "\n",
    "colorized_image = cv2.cvtColor(grayscale_image, cv2.COLOR_GRAY2BGR)\n",
    "\n",
    "# Step 3: Display the colorized image\n",
    "\n",
    "cv2.imshow('Colorized Image', colorized_image)\n",
    "cv2.waitKey(0)\n",
    "cv2.destroyAllWindows()\n"
   ]
  }
 ],
 "metadata": {
  "kernelspec": {
   "display_name": "Python 3",
   "language": "python",
   "name": "python3"
  },
  "language_info": {
   "codemirror_mode": {
    "name": "ipython",
    "version": 3
   },
   "file_extension": ".py",
   "mimetype": "text/x-python",
   "name": "python",
   "nbconvert_exporter": "python",
   "pygments_lexer": "ipython3",
   "version": "3.11.3"
  },
  "orig_nbformat": 4
 },
 "nbformat": 4,
 "nbformat_minor": 2
}
